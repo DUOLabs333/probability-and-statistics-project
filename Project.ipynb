{
 "cells": [
  {
   "cell_type": "markdown",
   "id": "ea8f79e7-5c30-4868-87ef-73ad59f94147",
   "metadata": {},
   "source": [
    "In a follow-up analysis, we can look at multi-class classification instead of merely binary --- instead of simply predicting whether a species prefers forests or not, we can see if we can predict their exact habitat, based on the data already scraped from Cornell.\n",
    "\n",
    "To do so, instead of using only the GIS data for forests, we can use other geographical data openly available --- for example, there is the National Hydrography Dataset (NHD), located here: https://www.usgs.gov/national-hydrography/access-national-hydrography-products. We can use the NHD for NYS to determine the probability that a bird population is near a waterway, and use that as another variable in our model.\n",
    "\n",
    "In a similar vein, the \"Significant Natural Communities\" data already used in this analysis has other features, like wetlands, uplands, and lakes, which can be used to determine their own similar probabilities. This means that in the dataframe for each variable in the model, each habitat will be associated with a float between 0 and 1.\n",
    "\n",
    "In this case, to predict the habitat for a given probability: for each variable, the habitat in the dataframe with the closest probability is the predicted habitat for that variable. The overall predicted habitat is the mode of the variable's predictions."
   ]
  },
  {
   "cell_type": "code",
   "execution_count": null,
   "id": "2776d3b5-f963-400c-8103-7e5dcb14070a",
   "metadata": {},
   "outputs": [],
   "source": []
  },
  {
   "cell_type": "markdown",
   "id": "036da9cc-8c63-46c6-aa60-650c312530de",
   "metadata": {},
   "source": [
    "Install and needed packages"
   ]
  },
  {
   "cell_type": "code",
   "execution_count": 12,
   "id": "1d06e2b1-4256-47d0-8291-cbebec2fffb5",
   "metadata": {},
   "outputs": [],
   "source": [
    "library(rlang)\n",
    "for (package in list(\"sf\",\"xml2\",\"units\",\"data.table\",\"httr\",\"nloptr\")){\n",
    "    if (!is.null(catch_cnd(library(package,character.only = TRUE, quietly = T), classes=\"error\"))){\n",
    "        install.packages(package)\n",
    "    }\n",
    "}\n",
    "\n",
    "library(IRdisplay)"
   ]
  },
  {
   "cell_type": "code",
   "execution_count": null,
   "id": "2434de1b-29c6-4848-a409-723e2e989db0",
   "metadata": {
    "collapsed": true,
    "jupyter": {
     "outputs_hidden": true
    }
   },
   "outputs": [],
   "source": []
  },
  {
   "cell_type": "markdown",
   "id": "5568b044-3654-47c1-b682-c3bac0d2e847",
   "metadata": {},
   "source": [
    "Convienence function for downloading kml files from dec"
   ]
  },
  {
   "cell_type": "code",
   "execution_count": 2,
   "id": "776c9e01-b731-41e4-b22d-81b0e70bb239",
   "metadata": {
    "collapsed": true,
    "jupyter": {
     "outputs_hidden": true
    }
   },
   "outputs": [],
   "source": [
    "download_kml=function(name){\n",
    "    filename=sprintf(\"%s.kmz\",name)\n",
    "    filepath=file.path(\"data\",filename)\n",
    "\n",
    "    if (file.exists(sub(\"(\\\\.kmz)$\",\".kml\",filepath))){\n",
    "        return()\n",
    "    }\n",
    "\n",
    "    dir.create(\"data\")\n",
    "    download.file( paste(\"http://www.dec.ny.gov/maps/\",filename,sep=\"\"), filepath,mode=\"wb\")\n",
    "    unzip(filepath,exdir=\"data\")\n",
    "    file.remove(filepath)\n",
    "}"
   ]
  },
  {
   "cell_type": "code",
   "execution_count": null,
   "id": "eef2e8f3-99bb-4ceb-85d5-ad85134c5441",
   "metadata": {
    "collapsed": true,
    "jupyter": {
     "outputs_hidden": true
    }
   },
   "outputs": [],
   "source": []
  },
  {
   "cell_type": "markdown",
   "id": "ee49c160-eade-440b-ad0e-7c554fb787af",
   "metadata": {},
   "source": [
    "Download needed files into `data` directory"
   ]
  },
  {
   "cell_type": "code",
   "execution_count": 3,
   "id": "e9d63ab5-663b-474c-a5c6-4360c77f1f99",
   "metadata": {
    "collapsed": true,
    "jupyter": {
     "outputs_hidden": true
    }
   },
   "outputs": [
    {
     "data": {
      "text/plain": [
       "NULL"
      ]
     },
     "metadata": {},
     "output_type": "display_data"
    }
   ],
   "source": [
    "for (region in list(\"southeast\",\"west\",\"north\")){\n",
    "    download_kml(sprintf(\"bba%s\",region))\n",
    "}\n",
    "\n",
    "for (comm in list(\"12\",\"34\",\"56\",\"789\")){\n",
    "     download_kml(sprintf(\"natcomm%s\",comm))\n",
    "}\n",
    "\n",
    "download_kml(\"bluelines\")\n",
    "\n",
    "if (file.exists(file.path(\"data\",\"doc.kml\"))){ #Don't know why this only occurs for the \"Blue Lines\" KML\n",
    "    file.rename(file.path(\"data\",\"doc.kml\"),file.path(\"data\",\"bluelines.kml\"))\n",
    "}\n",
    "\n",
    "filepath=file.path(\"data\",\"DEC_Lands.kml\")\n",
    "if (!file.exists(filepath)){\n",
    "download.file(\"https://opendata.arcgis.com/api/v3/datasets/84b4cce8a8974c31a1c5584540f3aaae_0/downloads/data?format=kml&spatialRefId=4326&where=1%3D1\",filepath)\n",
    "}"
   ]
  },
  {
   "cell_type": "code",
   "execution_count": null,
   "id": "2ca48866-107f-4d4f-9179-374a65ba57a9",
   "metadata": {
    "collapsed": true,
    "jupyter": {
     "outputs_hidden": true
    }
   },
   "outputs": [],
   "source": []
  },
  {
   "cell_type": "code",
   "execution_count": null,
   "id": "9095342f-4b72-4b18-bc2c-3bb110c6669a",
   "metadata": {
    "collapsed": true,
    "jupyter": {
     "outputs_hidden": true
    }
   },
   "outputs": [],
   "source": []
  },
  {
   "cell_type": "markdown",
   "id": "8c6e92e3-eb0d-47ba-9825-b82a263bca98",
   "metadata": {},
   "source": [
    "Convienence Function to convert list of coordinates to polygon"
   ]
  },
  {
   "cell_type": "code",
   "execution_count": 96,
   "id": "b0889415-cefb-43d0-9f70-4a19d9a8bea9",
   "metadata": {},
   "outputs": [
    {
     "name": "stderr",
     "output_type": "stream",
     "text": [
      "Spherical geometry (s2) switched off\n",
      "\n"
     ]
    }
   ],
   "source": [
    "forested_lands=list()\n",
    "sf_use_s2(FALSE)\n",
    "xml_to_polygon=function(coordinates){\n",
    "        coordinates=xml_text(coordinates)\n",
    "        coordinates=gsub(\"^\\\\s*\",\"\",coordinates) #Removes newlines in the beginning and end of string\n",
    "        coordinates=gsub(\"\\\\s*$\",\"\",coordinates)\n",
    "    \n",
    "        coordinates=strsplit(coordinates,\" \")[[1]] #Converts \"a,b,c d,e,f\" to [\"a,b,c\", \"d,e,f\"] \n",
    "\n",
    "        coordinates=lapply(coordinates, function (str) head( unlist(strsplit(str,\",\",fixed=T)), 2)) #Converts [\"a,b,c\"] to [[\"a\",\"b\"]]          \n",
    "                \n",
    "        coordinates=lapply(coordinates, function (lst) as.double(lst)) #Converts [[\"a\",\"b\"]] to [[a,b]]\n",
    "\n",
    "        coordinates=matrix(unlist(coordinates),ncol=2,byrow=TRUE) #Converts a list of lists to a matrix\n",
    "        coordinates= st_polygon(list(coordinates))\n",
    "\n",
    "        coordinates=st_sfc(coordinates,crs=4326) #Mandated by KML specification\n",
    "\n",
    "        coordinates=st_transform(coordinates,crs=5070) #Conus Albers --- equal area projection covering NA. Also much faster than using s2. Accurate areas (compared to data/source_of_truth.csv) up to the thousandths place.\n",
    "                           \n",
    "        coordinates=st_make_valid(coordinates) #st_concave_hull is also a valid option\n",
    "                           \n",
    "        coordinates\n",
    "}     "
   ]
  },
  {
   "cell_type": "code",
   "execution_count": null,
   "id": "a23ac50d-c4f9-48d9-8e79-0264fa530852",
   "metadata": {
    "collapsed": true,
    "jupyter": {
     "outputs_hidden": true
    }
   },
   "outputs": [],
   "source": []
  },
  {
   "cell_type": "markdown",
   "id": "58611c1e-3262-44d0-99ed-523eeeae16ef",
   "metadata": {},
   "source": [
    "Load geometries from DEC_Lands and take the union of it --- this is the collection of all officially recognized forested areas in NYS, and will be used as our proxy for forested regions."
   ]
  },
  {
   "cell_type": "code",
   "execution_count": null,
   "id": "9be50f41-0178-4f4a-b514-1e66e3ebd4e5",
   "metadata": {
    "collapsed": true,
    "jupyter": {
     "outputs_hidden": true
    }
   },
   "outputs": [],
   "source": []
  },
  {
   "cell_type": "code",
   "execution_count": 97,
   "id": "916fff38-10b3-45f9-ac63-0e8671fb2772",
   "metadata": {},
   "outputs": [
    {
     "name": "stdout",
     "output_type": "stream",
     "text": [
      "[[1]]\n",
      "Geometry set for 1 feature \n",
      "Geometry type: POLYGON\n",
      "Dimension:     XY\n",
      "Bounding box:  xmin: 1754152 ymin: 2382622 xmax: 1754271 ymax: 2382680\n",
      "Projected CRS: NAD83 / Conus Albers\n"
     ]
    },
    {
     "name": "stderr",
     "output_type": "stream",
     "text": [
      "POLYGON ((1754152 2382646, 1754157 2382680, 175...\n",
      "\n"
     ]
    },
    {
     "name": "stdout",
     "output_type": "stream",
     "text": [
      "\n",
      "[[2]]\n",
      "Geometry set for 1 feature \n",
      "Geometry type: POLYGON\n",
      "Dimension:     XY\n",
      "Bounding box:  xmin: 1833006 ymin: 2303594 xmax: 1834952 ymax: 2305545\n",
      "Projected CRS: NAD83 / Conus Albers\n"
     ]
    },
    {
     "name": "stderr",
     "output_type": "stream",
     "text": [
      "POLYGON ((1833843 2303663, 1833812 2303991, 183...\n",
      "\n"
     ]
    },
    {
     "name": "stdout",
     "output_type": "stream",
     "text": [
      "\n",
      "[[3]]\n",
      "Geometry set for 1 feature \n",
      "Geometry type: POLYGON\n",
      "Dimension:     XY\n",
      "Bounding box:  xmin: 1822448 ymin: 2392522 xmax: 1822954 ymax: 2393058\n",
      "Projected CRS: NAD83 / Conus Albers\n"
     ]
    },
    {
     "name": "stderr",
     "output_type": "stream",
     "text": [
      "POLYGON ((1822688 2392533, 1822689 2392522, 182...\n",
      "\n"
     ]
    },
    {
     "name": "stdout",
     "output_type": "stream",
     "text": [
      "\n",
      "[[4]]\n",
      "Geometry set for 1 feature \n",
      "Geometry type: POLYGON\n",
      "Dimension:     XY\n",
      "Bounding box:  xmin: 1821320 ymin: 2392912 xmax: 1821879 ymax: 2393296\n",
      "Projected CRS: NAD83 / Conus Albers\n"
     ]
    },
    {
     "name": "stderr",
     "output_type": "stream",
     "text": [
      "POLYGON ((1821730 2393028, 1821398 2392912, 182...\n",
      "\n"
     ]
    },
    {
     "name": "stdout",
     "output_type": "stream",
     "text": [
      "\n",
      "[[5]]\n",
      "Geometry set for 1 feature \n",
      "Geometry type: POLYGON\n",
      "Dimension:     XY\n",
      "Bounding box:  xmin: 1820553 ymin: 2393000 xmax: 1826808 ymax: 2402402\n",
      "Projected CRS: NAD83 / Conus Albers\n"
     ]
    },
    {
     "name": "stderr",
     "output_type": "stream",
     "text": [
      "POLYGON ((1824815 2402402, 1825193 2401336, 182...\n",
      "\n"
     ]
    },
    {
     "name": "stdout",
     "output_type": "stream",
     "text": [
      "\n",
      "[[6]]\n",
      "Geometry set for 1 feature \n",
      "Geometry type: POLYGON\n",
      "Dimension:     XY\n",
      "Bounding box:  xmin: 1821859 ymin: 2397472 xmax: 1822619 ymax: 2398326\n",
      "Projected CRS: NAD83 / Conus Albers\n"
     ]
    },
    {
     "name": "stderr",
     "output_type": "stream",
     "text": [
      "POLYGON ((1822345 2398326, 1822359 2397922, 182...\n",
      "\n"
     ]
    },
    {
     "name": "stdout",
     "output_type": "stream",
     "text": [
      "\n",
      "[[7]]\n",
      "Geometry set for 1 feature \n",
      "Geometry type: POLYGON\n",
      "Dimension:     XY\n",
      "Bounding box:  xmin: 1630240 ymin: 2364834 xmax: 1637504 ymax: 2373120\n",
      "Projected CRS: NAD83 / Conus Albers\n"
     ]
    },
    {
     "name": "stderr",
     "output_type": "stream",
     "text": [
      "POLYGON ((1634367 2369641, 1634424 2369458, 163...\n",
      "\n"
     ]
    },
    {
     "name": "stdout",
     "output_type": "stream",
     "text": [
      "\n",
      "[[8]]\n",
      "Geometry set for 1 feature \n",
      "Geometry type: POLYGON\n",
      "Dimension:     XY\n",
      "Bounding box:  xmin: 1771910 ymin: 2343457 xmax: 1782676 ymax: 2352383\n",
      "Projected CRS: NAD83 / Conus Albers\n"
     ]
    },
    {
     "name": "stderr",
     "output_type": "stream",
     "text": [
      "POLYGON ((1772944 2348908, 1772549 2349037, 177...\n",
      "\n"
     ]
    },
    {
     "name": "stdout",
     "output_type": "stream",
     "text": [
      "\n",
      "[[9]]\n",
      "Geometry set for 1 feature \n",
      "Geometry type: POLYGON\n",
      "Dimension:     XY\n",
      "Bounding box:  xmin: 1782677 ymin: 2345048 xmax: 1782684 ymax: 2345081\n",
      "Projected CRS: NAD83 / Conus Albers\n"
     ]
    },
    {
     "name": "stderr",
     "output_type": "stream",
     "text": [
      "POLYGON ((1782684 2345081, 1782677 2345048, 178...\n",
      "\n"
     ]
    },
    {
     "name": "stdout",
     "output_type": "stream",
     "text": [
      "\n",
      "[[10]]\n",
      "Geometry set for 1 feature \n",
      "Geometry type: POLYGON\n",
      "Dimension:     XY\n",
      "Bounding box:  xmin: 1777560 ymin: 2340198 xmax: 1787095 ymax: 2346031\n",
      "Projected CRS: NAD83 / Conus Albers\n"
     ]
    },
    {
     "name": "stderr",
     "output_type": "stream",
     "text": [
      "POLYGON ((1783488 2345517, 1783583 2345478, 178...\n",
      "\n"
     ]
    },
    {
     "name": "stdout",
     "output_type": "stream",
     "text": [
      "\n"
     ]
    }
   ],
   "source": [
    "dec_lands=as_xml_document(file.path(\"data\",\"DEC_Lands.kml\"))\n",
    "ns=xml_ns(dec_lands)\n",
    "ns=xml_ns_rename(ns, d1=\"kml\")\n",
    "\n",
    "locations=xml_find_all(dec_lands,\"//kml:coordinates\",flatten=TRUE,ns=ns)\n",
    "forested_lands=append(forested_lands,lapply(locations,xml_to_polygon))\n",
    "\n",
    "print(tail(forested_lands,10))"
   ]
  },
  {
   "cell_type": "code",
   "execution_count": null,
   "id": "fe96e99c-f306-4b07-919f-3f478a19d5f9",
   "metadata": {
    "collapsed": true,
    "jupyter": {
     "outputs_hidden": true
    }
   },
   "outputs": [],
   "source": []
  },
  {
   "cell_type": "markdown",
   "id": "e4e4b25e-5fcc-4c6d-8a40-df4a587641fb",
   "metadata": {},
   "source": [
    "Extract all Forested Uplands (what we would call \"forests\") from \"Significant Natural Communities\" data."
   ]
  },
  {
   "cell_type": "code",
   "execution_count": 98,
   "id": "a14a168d-7e6a-491d-b791-79fb7140c262",
   "metadata": {},
   "outputs": [
    {
     "name": "stdout",
     "output_type": "stream",
     "text": [
      "[[1]]\n",
      "Geometry set for 1 feature \n",
      "Geometry type: POLYGON\n",
      "Dimension:     XY\n",
      "Bounding box:  xmin: 1392160 ymin: 2282894 xmax: 1392274 ymax: 2283173\n",
      "Projected CRS: NAD83 / Conus Albers\n"
     ]
    },
    {
     "name": "stderr",
     "output_type": "stream",
     "text": [
      "POLYGON ((1392252 2283173, 1392272 2283161, 139...\n",
      "\n"
     ]
    },
    {
     "name": "stdout",
     "output_type": "stream",
     "text": [
      "\n",
      "[[2]]\n",
      "Geometry set for 1 feature \n",
      "Geometry type: POLYGON\n",
      "Dimension:     XY\n",
      "Bounding box:  xmin: 1392097 ymin: 2283845 xmax: 1392484 ymax: 2284155\n",
      "Projected CRS: NAD83 / Conus Albers\n"
     ]
    },
    {
     "name": "stderr",
     "output_type": "stream",
     "text": [
      "POLYGON ((1392320 2284155, 1392321 2284153, 139...\n",
      "\n"
     ]
    },
    {
     "name": "stdout",
     "output_type": "stream",
     "text": [
      "\n",
      "[[3]]\n",
      "Geometry set for 1 feature \n",
      "Geometry type: POLYGON\n",
      "Dimension:     XY\n",
      "Bounding box:  xmin: 1391591 ymin: 2282769 xmax: 1391998 ymax: 2283367\n",
      "Projected CRS: NAD83 / Conus Albers\n"
     ]
    },
    {
     "name": "stderr",
     "output_type": "stream",
     "text": [
      "POLYGON ((1391927 2283352, 1391954 2283363, 139...\n",
      "\n"
     ]
    },
    {
     "name": "stdout",
     "output_type": "stream",
     "text": [
      "\n",
      "[[4]]\n",
      "Geometry set for 1 feature \n",
      "Geometry type: POLYGON\n",
      "Dimension:     XY\n",
      "Bounding box:  xmin: 1391018 ymin: 2283876 xmax: 1391149 ymax: 2284025\n",
      "Projected CRS: NAD83 / Conus Albers\n"
     ]
    },
    {
     "name": "stderr",
     "output_type": "stream",
     "text": [
      "POLYGON ((1391113 2284015, 1391107 2284009, 139...\n",
      "\n"
     ]
    },
    {
     "name": "stdout",
     "output_type": "stream",
     "text": [
      "\n",
      "[[5]]\n",
      "Geometry set for 1 feature \n",
      "Geometry type: POLYGON\n",
      "Dimension:     XY\n",
      "Bounding box:  xmin: 1338692 ymin: 2257831 xmax: 1340941 ymax: 2259576\n",
      "Projected CRS: NAD83 / Conus Albers\n"
     ]
    },
    {
     "name": "stderr",
     "output_type": "stream",
     "text": [
      "POLYGON ((1339588 2257900, 1339561 2257890, 133...\n",
      "\n"
     ]
    },
    {
     "name": "stdout",
     "output_type": "stream",
     "text": [
      "\n",
      "[[6]]\n",
      "Geometry set for 1 feature \n",
      "Geometry type: POLYGON\n",
      "Dimension:     XY\n",
      "Bounding box:  xmin: 1483291 ymin: 2387262 xmax: 1484577 ymax: 2388982\n",
      "Projected CRS: NAD83 / Conus Albers\n"
     ]
    },
    {
     "name": "stderr",
     "output_type": "stream",
     "text": [
      "POLYGON ((1483551 2387863, 1483552 2387833, 148...\n",
      "\n"
     ]
    },
    {
     "name": "stdout",
     "output_type": "stream",
     "text": [
      "\n",
      "[[7]]\n",
      "Geometry set for 1 feature \n",
      "Geometry type: POLYGON\n",
      "Dimension:     XY\n",
      "Bounding box:  xmin: 1395603 ymin: 2246986 xmax: 1396820 ymax: 2248201\n",
      "Projected CRS: NAD83 / Conus Albers\n"
     ]
    },
    {
     "name": "stderr",
     "output_type": "stream",
     "text": [
      "POLYGON ((1396820 2247846, 1396811 2247249, 139...\n",
      "\n"
     ]
    },
    {
     "name": "stdout",
     "output_type": "stream",
     "text": [
      "\n",
      "[[8]]\n",
      "Geometry set for 1 feature \n",
      "Geometry type: POLYGON\n",
      "Dimension:     XY\n",
      "Bounding box:  xmin: 1579013 ymin: 2315583 xmax: 1579470 ymax: 2316144\n",
      "Projected CRS: NAD83 / Conus Albers\n"
     ]
    },
    {
     "name": "stderr",
     "output_type": "stream",
     "text": [
      "POLYGON ((1579377 2316107, 1579401 2315991, 157...\n",
      "\n"
     ]
    },
    {
     "name": "stdout",
     "output_type": "stream",
     "text": [
      "\n",
      "[[9]]\n",
      "Geometry set for 1 feature \n",
      "Geometry type: POLYGON\n",
      "Dimension:     XY\n",
      "Bounding box:  xmin: 1421048 ymin: 2258773 xmax: 1423013 ymax: 2260941\n",
      "Projected CRS: NAD83 / Conus Albers\n"
     ]
    },
    {
     "name": "stderr",
     "output_type": "stream",
     "text": [
      "POLYGON ((1421094 2260918, 1421130 2260924, 142...\n",
      "\n"
     ]
    },
    {
     "name": "stdout",
     "output_type": "stream",
     "text": [
      "\n",
      "[[10]]\n",
      "Geometry set for 1 feature \n",
      "Geometry type: POLYGON\n",
      "Dimension:     XY\n",
      "Bounding box:  xmin: 1410380 ymin: 2261596 xmax: 1411682 ymax: 2262750\n",
      "Projected CRS: NAD83 / Conus Albers\n"
     ]
    },
    {
     "name": "stderr",
     "output_type": "stream",
     "text": [
      "POLYGON ((1410422 2262231, 1410392 2262310, 141...\n",
      "\n"
     ]
    },
    {
     "name": "stdout",
     "output_type": "stream",
     "text": [
      "\n"
     ]
    }
   ],
   "source": [
    "for (comm in list(\"12\",\"34\",\"56\",\"789\")){\n",
    "    filename=sprintf(\"natcomm%s.kml\",comm)\n",
    "    filepath=file.path(\"data\",filename)\n",
    "    natcomm=as_xml_document(filepath)\n",
    "\n",
    "    ns=xml_ns(natcomm)\n",
    "    locations=xml_find_all(natcomm,'//kml:Folder[kml:name[text()=\"Forested Uplands\"]]//kml:LinearRing//kml:coordinates',flatten=TRUE,ns=ns)\n",
    "    forested_lands=append(forested_lands,lapply(locations,xml_to_polygon))\n",
    "    \n",
    "}\n",
    "print(tail(forested_lands,10))"
   ]
  },
  {
   "cell_type": "code",
   "execution_count": null,
   "id": "bcaa89f5-acdc-4ded-8d39-f35da3090f86",
   "metadata": {
    "collapsed": true,
    "jupyter": {
     "outputs_hidden": true
    }
   },
   "outputs": [],
   "source": []
  },
  {
   "cell_type": "markdown",
   "id": "33550937-833f-44b1-a1d3-43387d7d9235",
   "metadata": {},
   "source": [
    "Extract all State Reserves (which are definitely forests) from \"Blue Lines\" data."
   ]
  },
  {
   "cell_type": "code",
   "execution_count": 99,
   "id": "bec3fdae-f867-4820-a809-9a4ba6ccd305",
   "metadata": {},
   "outputs": [
    {
     "name": "stdout",
     "output_type": "stream",
     "text": [
      "[[1]]\n",
      "Geometry set for 1 feature \n",
      "Geometry type: POLYGON\n",
      "Dimension:     XY\n",
      "Bounding box:  xmin: 1391591 ymin: 2282769 xmax: 1391998 ymax: 2283367\n",
      "Projected CRS: NAD83 / Conus Albers\n"
     ]
    },
    {
     "name": "stderr",
     "output_type": "stream",
     "text": [
      "POLYGON ((1391927 2283352, 1391954 2283363, 139...\n",
      "\n"
     ]
    },
    {
     "name": "stdout",
     "output_type": "stream",
     "text": [
      "\n",
      "[[2]]\n",
      "Geometry set for 1 feature \n",
      "Geometry type: POLYGON\n",
      "Dimension:     XY\n",
      "Bounding box:  xmin: 1391018 ymin: 2283876 xmax: 1391149 ymax: 2284025\n",
      "Projected CRS: NAD83 / Conus Albers\n"
     ]
    },
    {
     "name": "stderr",
     "output_type": "stream",
     "text": [
      "POLYGON ((1391113 2284015, 1391107 2284009, 139...\n",
      "\n"
     ]
    },
    {
     "name": "stdout",
     "output_type": "stream",
     "text": [
      "\n",
      "[[3]]\n",
      "Geometry set for 1 feature \n",
      "Geometry type: POLYGON\n",
      "Dimension:     XY\n",
      "Bounding box:  xmin: 1338692 ymin: 2257831 xmax: 1340941 ymax: 2259576\n",
      "Projected CRS: NAD83 / Conus Albers\n"
     ]
    },
    {
     "name": "stderr",
     "output_type": "stream",
     "text": [
      "POLYGON ((1339588 2257900, 1339561 2257890, 133...\n",
      "\n"
     ]
    },
    {
     "name": "stdout",
     "output_type": "stream",
     "text": [
      "\n",
      "[[4]]\n",
      "Geometry set for 1 feature \n",
      "Geometry type: POLYGON\n",
      "Dimension:     XY\n",
      "Bounding box:  xmin: 1483291 ymin: 2387262 xmax: 1484577 ymax: 2388982\n",
      "Projected CRS: NAD83 / Conus Albers\n"
     ]
    },
    {
     "name": "stderr",
     "output_type": "stream",
     "text": [
      "POLYGON ((1483551 2387863, 1483552 2387833, 148...\n",
      "\n"
     ]
    },
    {
     "name": "stdout",
     "output_type": "stream",
     "text": [
      "\n",
      "[[5]]\n",
      "Geometry set for 1 feature \n",
      "Geometry type: POLYGON\n",
      "Dimension:     XY\n",
      "Bounding box:  xmin: 1395603 ymin: 2246986 xmax: 1396820 ymax: 2248201\n",
      "Projected CRS: NAD83 / Conus Albers\n"
     ]
    },
    {
     "name": "stderr",
     "output_type": "stream",
     "text": [
      "POLYGON ((1396820 2247846, 1396811 2247249, 139...\n",
      "\n"
     ]
    },
    {
     "name": "stdout",
     "output_type": "stream",
     "text": [
      "\n",
      "[[6]]\n",
      "Geometry set for 1 feature \n",
      "Geometry type: POLYGON\n",
      "Dimension:     XY\n",
      "Bounding box:  xmin: 1579013 ymin: 2315583 xmax: 1579470 ymax: 2316144\n",
      "Projected CRS: NAD83 / Conus Albers\n"
     ]
    },
    {
     "name": "stderr",
     "output_type": "stream",
     "text": [
      "POLYGON ((1579377 2316107, 1579401 2315991, 157...\n",
      "\n"
     ]
    },
    {
     "name": "stdout",
     "output_type": "stream",
     "text": [
      "\n",
      "[[7]]\n",
      "Geometry set for 1 feature \n",
      "Geometry type: POLYGON\n",
      "Dimension:     XY\n",
      "Bounding box:  xmin: 1421048 ymin: 2258773 xmax: 1423013 ymax: 2260941\n",
      "Projected CRS: NAD83 / Conus Albers\n"
     ]
    },
    {
     "name": "stderr",
     "output_type": "stream",
     "text": [
      "POLYGON ((1421094 2260918, 1421130 2260924, 142...\n",
      "\n"
     ]
    },
    {
     "name": "stdout",
     "output_type": "stream",
     "text": [
      "\n",
      "[[8]]\n",
      "Geometry set for 1 feature \n",
      "Geometry type: POLYGON\n",
      "Dimension:     XY\n",
      "Bounding box:  xmin: 1410380 ymin: 2261596 xmax: 1411682 ymax: 2262750\n",
      "Projected CRS: NAD83 / Conus Albers\n"
     ]
    },
    {
     "name": "stderr",
     "output_type": "stream",
     "text": [
      "POLYGON ((1410422 2262231, 1410392 2262310, 141...\n",
      "\n"
     ]
    },
    {
     "name": "stdout",
     "output_type": "stream",
     "text": [
      "\n",
      "[[9]]\n",
      "Geometry set for 1 feature \n",
      "Geometry type: POLYGON\n",
      "Dimension:     XY\n",
      "Bounding box:  xmin: 1638287 ymin: 2424667 xmax: 1798979 ymax: 2637247\n",
      "Projected CRS: NAD83 / Conus Albers\n"
     ]
    },
    {
     "name": "stderr",
     "output_type": "stream",
     "text": [
      "POLYGON ((1742298 2635913, 1742735 2634226, 174...\n",
      "\n"
     ]
    },
    {
     "name": "stdout",
     "output_type": "stream",
     "text": [
      "\n",
      "[[10]]\n",
      "Geometry set for 1 feature \n",
      "Geometry type: POLYGON\n",
      "Dimension:     XY\n",
      "Bounding box:  xmin: 1706705 ymin: 2287567 xmax: 1793505 ymax: 2352721\n",
      "Projected CRS: NAD83 / Conus Albers\n"
     ]
    },
    {
     "name": "stderr",
     "output_type": "stream",
     "text": [
      "POLYGON ((1775622 2351833, 1780161 2350072, 177...\n",
      "\n"
     ]
    },
    {
     "name": "stdout",
     "output_type": "stream",
     "text": [
      "\n"
     ]
    }
   ],
   "source": [
    "filepath=file.path(\"data\",\"bluelines.kml\")\n",
    "bluelines=as_xml_document(filepath)\n",
    "\n",
    "ns=xml_ns(bluelines)\n",
    "locations=xml_find_all(bluelines,'//kml:coordinates',flatten=TRUE,ns=ns)\n",
    "forested_lands=append(forested_lands,lapply(locations,xml_to_polygon))\n",
    "print(tail(forested_lands,10))"
   ]
  },
  {
   "cell_type": "code",
   "execution_count": null,
   "id": "30d85d00-bea7-43c8-a176-33ed15e86a2a",
   "metadata": {
    "collapsed": true,
    "jupyter": {
     "outputs_hidden": true
    }
   },
   "outputs": [],
   "source": []
  },
  {
   "cell_type": "markdown",
   "id": "5f5b22a7-955a-4117-a781-0f702dd62991",
   "metadata": {},
   "source": [
    "Take union of list to make multi-polygon, and resolve any border overlaps"
   ]
  },
  {
   "cell_type": "code",
   "execution_count": 100,
   "id": "ff2d95cf-9a18-4408-b6a3-80c1b3bdfd5c",
   "metadata": {},
   "outputs": [
    {
     "name": "stdout",
     "output_type": "stream",
     "text": [
      "Geometry set for 2655 features \n",
      "Geometry type: POLYGON\n",
      "Dimension:     XY\n",
      "Bounding box:  xmin: 1324658 ymin: 2151820 xmax: 1990721 ymax: 2657514\n",
      "Projected CRS: NAD83 / Conus Albers\n",
      "First 5 geometries:\n"
     ]
    },
    {
     "name": "stderr",
     "output_type": "stream",
     "text": [
      "POLYGON ((1342800 2228849, 1343109 2228891, 134...\n",
      "\n",
      "POLYGON ((1341951 2228736, 1341925 2228895, 134...\n",
      "\n",
      "POLYGON ((1354805 2230352, 1354690 2230343, 135...\n",
      "\n",
      "POLYGON ((1349979 2230982, 1349960 2230978, 134...\n",
      "\n",
      "POLYGON ((1361083 2231705, 1361267 2231747, 136...\n",
      "\n"
     ]
    }
   ],
   "source": [
    "forested_lands=do.call(c, forested_lands)\n",
    "\n",
    "forested_lands=st_union(forested_lands)\n",
    "\n",
    "forested_lands=st_cast(forested_lands,\"POLYGON\") #So I can run intersects/intersection on each non-overlapping region independently\n",
    "\n",
    "forested_lands=st_make_valid(forested_lands) #For some reason, while each part is valid, the union is not --- likely due to precision\n",
    "\n",
    "print(forested_lands)"
   ]
  },
  {
   "cell_type": "code",
   "execution_count": null,
   "id": "0ffcb57b-9455-42c5-a0ca-b9110187c179",
   "metadata": {
    "collapsed": true,
    "jupyter": {
     "outputs_hidden": true
    }
   },
   "outputs": [],
   "source": []
  },
  {
   "cell_type": "markdown",
   "id": "c617c754-6aac-4964-82ee-344472974108",
   "metadata": {},
   "source": [
    "Picture of all Forested Lands"
   ]
  },
  {
   "cell_type": "code",
   "execution_count": 101,
   "id": "3c91bfcf-43cc-42c0-9246-656699f24d6e",
   "metadata": {},
   "outputs": [
    {
     "data": {
      "image/png": "[encoded data removed]",
      "text/plain": [
       "plot without title"
      ]
     },
     "metadata": {
      "image/png": {
       "height": 420,
       "width": 420
      }
     },
     "output_type": "display_data"
    }
   ],
   "source": [
    "plot(forested_lands,col=\"red\")"
   ]
  },
  {
   "cell_type": "code",
   "execution_count": null,
   "id": "2690c4b3-33e7-4976-935a-6928db7a5a1f",
   "metadata": {},
   "outputs": [],
   "source": []
  },
  {
   "cell_type": "markdown",
   "id": "51d01c97-860d-4790-a268-351a0ded44c2",
   "metadata": {},
   "source": [
    "Create dataframes to hold each subplot and bird:\n",
    "Each row in `subplots` will hold the polygon associated with it\n",
    "\n",
    "Each row in `birds` will hold the name of the bird and the list of subplots that it was found in."
   ]
  },
  {
   "cell_type": "code",
   "execution_count": 104,
   "id": "48078a71-0e51-46d6-91d5-af15aa32dabe",
   "metadata": {},
   "outputs": [],
   "source": [
    "subplots=data.frame(in_forested=I(list()),area=I(list()))\n",
    "\n",
    "birds=data.frame(name=I(list()),plots=I(list()),total_in_forested=I(list()),total_area=I(list()))"
   ]
  },
  {
   "cell_type": "code",
   "execution_count": null,
   "id": "d1baa83f-46e5-4810-8848-0027b20540be",
   "metadata": {},
   "outputs": [],
   "source": []
  },
  {
   "cell_type": "markdown",
   "id": "cfcfb8d3-8556-46b1-9e51-93fd3eea7c5f",
   "metadata": {},
   "source": [
    "Parse the Bird Breeding Atlas data to get the geometries of the subplots, and the birds that were found in each region. \n",
    "\n",
    "We are assuming that for a given bird species, the populations are equally distributed over all the blocks that they are found in --- in a follow-up analysis, we can use a population density map, to get more fine-grained information about the concentration of a population in different regions.\n",
    "    How this would work: assume that some block of land $l$ has a population density of $d\\%$ for bird species $s$ --- that is, $d\\%$ of the entire population of $s$ in NYS lives in $l$. We assume that within $l$, the population is uniformly distributed (it's the same assumption as before, but now over a smaller piece of land, so it should hopefully be more accurate). So, if $f\\%$ of $l$ is in forested lands, then $(f\\cdot d)\\%$ of the population of $s$ lives in forested lands."
   ]
  },
  {
   "cell_type": "code",
   "execution_count": 105,
   "id": "7af1d8b6-d807-4d55-9c34-a0d5cb6baa49",
   "metadata": {},
   "outputs": [
    {
     "name": "stdout",
     "output_type": "stream",
     "text": [
      "[1] \"Finished processing plot 5336!\"\n",
      "    in_forested         area\n",
      "1             0 24986969....\n",
      "2             0 25019851....\n",
      "3             0 25019639....\n",
      "4             0 25019619....\n",
      "5  8478801..... 25019680....\n",
      "6             0 25019660....\n",
      "7  1009170..... 25019529....\n",
      "8  14631986.... 25019700....\n",
      "9             0 25019432....\n",
      "10 1724152..... 25019388....\n",
      "             name        plots total_in_forested total_area\n",
      "GRHE Green He.... 2, 21, 2....                             \n",
      "BAOR Baltimor.... 2, 3, 4,....                             \n",
      "COGR Common G.... 2, 3, 4,....                             \n",
      "RWBL Red-wing.... 2, 3, 4,....                             \n",
      "BCCH Black-ca.... 2, 3, 4,....                             \n",
      "ETTI Tufted T.... 2, 3, 4,....                             \n",
      "AMGO American.... 2, 3, 4,....                             \n",
      "INBU Indigo B.... 2, 3, 4,....                             \n",
      "NOCA Northern.... 2, 4, 5,....                             \n",
      "RTHU Ruby-thr.... 2, 3, 4,....                             \n"
     ]
    }
   ],
   "source": [
    "subplots_idx=1\n",
    "forested_lands_crs=st_crs(forested_lands)\n",
    "\n",
    "for (region in list(\"southeast\",\"west\",\"north\")){\n",
    "    filename=sprintf(\"bba%s.kml\",region)\n",
    "    filepath=file.path(\"data\",filename)\n",
    "    bba=as_xml_document(filepath)\n",
    "    \n",
    "    for (location in xml_find_all(bba,\".//kml:Placemark\",flatten=TRUE)){\n",
    "        coordinates=xml_find_first(location,\".//kml:LinearRing/kml:coordinates\")\n",
    "        coordinates=xml_to_polygon(coordinates)\n",
    "\n",
    "        intersects=st_intersects(coordinates,forested_lands)[[1]] #Filter out any forests that do not intersect with the block\n",
    "        \n",
    "        if (length(intersects)>0){ #If there's at least one intersection\n",
    "        intersections=lapply(intersects, function (region) st_intersection(coordinates, st_sfc(forested_lands[region],crs=forested_lands_crs)) ) #Get the intersections\n",
    "\n",
    "        intersections=lapply(intersections, function (region) st_area(region)) #Get the area of the intersections\n",
    "\n",
    "        intersections=sum(unlist(intersections)) #Sum 'em up\n",
    "        }else{\n",
    "            intersections=0\n",
    "        }\n",
    "     \n",
    "        area=drop_units(st_area(coordinates))\n",
    "                        \n",
    "        subplots[[subplots_idx,\"in_forested\"]]=intersections\n",
    "        subplots[[subplots_idx,\"area\"]]=area\n",
    "        \n",
    "        for (bird in xml_find_all(location,\".//kml:SimpleData\")){\n",
    "            identifier=xml_attr(bird,\"name\")\n",
    "            name=xml_text(bird)\n",
    "            if (name==\"NONE\"){ #None was found here, so can skip\n",
    "                next\n",
    "            }\n",
    "            if (!grepl(\"^\\\\s*$\",name)[[1]]){ #Name has to be a string\n",
    "                birds[[identifier,\"name\"]]=name\n",
    "            }else{\n",
    "                next #We take it to mean that a blank means \"possible\" --- we only want \"certain\"\n",
    "            }\n",
    "            \n",
    "            locations_list=birds[[identifier,\"plots\"]]\n",
    "            \n",
    "            if (is.na(list(locations_list)) || is.null(list(locations_list))){\n",
    "                locations_list=c()\n",
    "            }\n",
    "            \n",
    "            locations_list=append(locations_list,subplots_idx)\n",
    "            \n",
    "            birds[[identifier,\"plots\"]]=locations_list\n",
    "\n",
    "         }\n",
    "        clear_output()\n",
    "        print(sprintf(\"Finished processing plot %s!\", subplots_idx))\n",
    "        flush.console()\n",
    "         subplots_idx=subplots_idx+1\n",
    "    }\n",
    "}\n",
    "\n",
    "print(head(subplots,10))\n",
    "print(head(birds,10))                          "
   ]
  },
  {
   "cell_type": "code",
   "execution_count": null,
   "id": "7d2b24c5-47c6-4c29-96d5-ecca13ca903a",
   "metadata": {
    "collapsed": true,
    "jupyter": {
     "outputs_hidden": true
    }
   },
   "outputs": [],
   "source": []
  },
  {
   "cell_type": "markdown",
   "id": "5aa06d51-c5f5-49d5-894f-cca87de12d9d",
   "metadata": {},
   "source": [
    "For each bird species, find $P(\\text{In Forested}\\ |\\ \\text{Bird})$. This is calculated with (Intersection between lands where species is found and forested areas)/(All lands where species is found). \n",
    "\n",
    "Why this works:\n",
    "==============\n",
    "Assume that for a species $s$, all populations are uniformly distributed over all lands where they are found in NYS --- that is, if a population of $s$ is in land $l$, then the population density is $d$, where $d$ is a constant.\n",
    "\n",
    "This means that if total area of lands where $s$ is found is $A$ and the total number of birds of $s$ in NYS is $N$, then $N=bA$. Assume the area intersection of the lands where species is found and forested areas is $I$. This means that all of the birds of $s$ that live in forested areas is $bI$. So, the proportion of all birds in $s$ that live in forested areas is $\\frac{bI}{bA}=\\frac{I}{A}$.\n",
    "\n",
    "We can simply add the intersections and areas from each of the plots $s$ is in, as each plot does not overlap another plot, so they are independent. Similarly, we can add up the intersections each plot has with each forest as each forest is independent (there is no overlap)."
   ]
  },
  {
   "cell_type": "code",
   "execution_count": 106,
   "id": "02eb1703-1173-4505-a2ab-bb825f6b9a81",
   "metadata": {},
   "outputs": [
    {
     "name": "stdout",
     "output_type": "stream",
     "text": [
      "             name        plots total_in_forested   total_area\n",
      "GRHE Green He.... 2, 21, 2....      39750729.... 55332158....\n",
      "BAOR Baltimor.... 2, 3, 4,....      13346995.... 10692337....\n",
      "COGR Common G.... 2, 3, 4,....      25124495.... 12333167....\n",
      "RWBL Red-wing.... 2, 3, 4,....      25069737.... 12455651....\n",
      "BCCH Black-ca.... 2, 3, 4,....      31625449.... 13016128....\n",
      "ETTI Tufted T.... 2, 3, 4,....      86124984.... 78039338....\n",
      "AMGO American.... 2, 3, 4,....      26515808.... 12510714....\n",
      "INBU Indigo B.... 2, 3, 4,....      18292591.... 10569963....\n",
      "NOCA Northern.... 2, 4, 5,....      87275321.... 97413283....\n",
      "RTHU Ruby-thr.... 2, 3, 4,....      25540683.... 10637786....\n"
     ]
    }
   ],
   "source": [
    "for (i in seq_len(nrow(birds))){\n",
    "\n",
    "    total_in_forested=0\n",
    "    total_area=0\n",
    "\n",
    "    plots=birds[[i,\"plots\"]]\n",
    "\n",
    "    for (plot in plots){\n",
    "\n",
    "        total_in_forested=total_in_forested+subplots[[plot,\"in_forested\"]]\n",
    "        total_area=total_area+subplots[[plot,\"area\"]]\n",
    "    }\n",
    "\n",
    "    birds[[i,\"total_in_forested\"]]=total_in_forested\n",
    "    birds[[i,\"total_area\"]]=total_area\n",
    "        \n",
    "}\n",
    "\n",
    "print(head(birds,10))"
   ]
  },
  {
   "cell_type": "code",
   "execution_count": null,
   "id": "3cdc4f68-48de-4e51-a3f4-938a01c50a1d",
   "metadata": {
    "collapsed": true,
    "jupyter": {
     "outputs_hidden": true
    }
   },
   "outputs": [],
   "source": []
  },
  {
   "cell_type": "markdown",
   "id": "d3d762c2-ea9d-4ceb-bc09-652a7fa3a5e6",
   "metadata": {},
   "source": [
    "Save the probabilities to a CSV file for further analysis."
   ]
  },
  {
   "cell_type": "code",
   "execution_count": 107,
   "id": "c51a2094-9a57-45d1-9a95-186ac90e9a76",
   "metadata": {},
   "outputs": [
    {
     "name": "stdout",
     "output_type": "stream",
     "text": [
      "[1] FALSE\n"
     ]
    }
   ],
   "source": [
    "print(identical(birds[[1,\"plots\"]],birds[[2,\"plots\"]]))\n",
    "birds_csv_df=copy(birds)\n",
    "birds_csv_df$total_in_forested=unlist(birds_csv_df$total_in_forested)\n",
    "birds_csv_df$total_area=unlist(birds_csv_df$total_area)\n",
    "\n",
    "birds_csv_df=transform(birds_csv_df, probability=total_in_forested/total_area) #df that will be written to a csv\n",
    "\n",
    "birds_csv_df=subset(birds_csv_df,select=-c(plots,total_in_forested,total_area))\n",
    "\n",
    "write.csv(birds_csv_df,file=\"analysis_results.csv\",row.names=F)"
   ]
  },
  {
   "cell_type": "code",
   "execution_count": null,
   "id": "a412cbd9-211f-4612-989c-71a0cadc1790",
   "metadata": {
    "collapsed": true,
    "jupyter": {
     "outputs_hidden": true
    }
   },
   "outputs": [],
   "source": []
  },
  {
   "cell_type": "markdown",
   "id": "11c25a39-55f6-4e46-aa4b-adcd465ed3ae",
   "metadata": {
    "collapsed": true,
    "jupyter": {
     "outputs_hidden": true
    }
   },
   "source": [
    "We can say that any deviation is due to the birds adapting to changing environment. May not account for other features that are or are not in forests (water, shrubs, cliffs, etc.)."
   ]
  },
  {
   "cell_type": "code",
   "execution_count": null,
   "id": "04839db4-968a-40eb-8531-5d481e6a8783",
   "metadata": {},
   "outputs": [],
   "source": []
  },
  {
   "cell_type": "markdown",
   "id": "e03b5d13-c5da-4c62-a929-13f49cefe71e",
   "metadata": {},
   "source": [
    "Scrape [All About Birds](https://www.allaboutbirds.org/) to get the habitat associated with each type of bird\n",
    "\n",
    "Remove \"'\", and replace \" \" with \"_\", to normalize names for URLs. For any bird that does not have an associated page, ignore it in the final model."
   ]
  },
  {
   "cell_type": "code",
   "execution_count": 36,
   "id": "c8f89332-9319-495c-a8e9-84a1b877465e",
   "metadata": {},
   "outputs": [
    {
     "name": "stdout",
     "output_type": "stream",
     "text": [
      "\n",
      "\n"
     ]
    },
    {
     "data": {
      "text/html": [
       "<table class=\"dataframe\">\n",
       "<caption>A data.frame: 251 × 2</caption>\n",
       "<thead>\n",
       "\t<tr><th scope=col>name</th><th scope=col>habitat</th></tr>\n",
       "\t<tr><th scope=col>&lt;chr&gt;</th><th scope=col>&lt;chr&gt;</th></tr>\n",
       "</thead>\n",
       "<tbody>\n",
       "\t<tr><td>Green Heron (Butorides virescens)               </td><td>Marshes        </td></tr>\n",
       "\t<tr><td>Baltimore Oriole (Icterus galbula)              </td><td>Forests        </td></tr>\n",
       "\t<tr><td>Common Grackle (Quiscalus quiscula)             </td><td>Open Woodlands </td></tr>\n",
       "\t<tr><td>Red-winged Blackbird (Agelaius phoeniceus)      </td><td>Marshes        </td></tr>\n",
       "\t<tr><td>Black-capped Chickadee (Poecile atricapillus)   </td><td>Forests        </td></tr>\n",
       "\t<tr><td>Tufted Titmouse (Baeolophus bicolor)            </td><td>Forests        </td></tr>\n",
       "\t<tr><td>American Goldfinch (Carduelis tristis)          </td><td>Open Woodlands </td></tr>\n",
       "\t<tr><td>Indigo Bunting (Passerina cyanea)               </td><td>Open Woodlands </td></tr>\n",
       "\t<tr><td>Northern Cardinal (Cardinalis cardinalis)       </td><td>Open Woodlands </td></tr>\n",
       "\t<tr><td>Ruby-throated Hummingbird (Archilochus colubris)</td><td>Open Woodlands </td></tr>\n",
       "\t<tr><td>American Crow (Corvus brachyrhynchos)           </td><td>Open Woodlands </td></tr>\n",
       "\t<tr><td>Blue Jay (Cyanocitta cristata)                  </td><td>Forests        </td></tr>\n",
       "\t<tr><td>Belted Kingfisher (Megaceryle alcyon)           </td><td>Lakes and Ponds</td></tr>\n",
       "\t<tr><td>Bald Eagle (Haliaeetus leucocephalus)           </td><td>Forests        </td></tr>\n",
       "\t<tr><td>Osprey (Pandion haliaetus)                      </td><td>Oceans         </td></tr>\n",
       "\t<tr><td>Brown Thrasher (Toxostoma rufum)                </td><td>Scrub          </td></tr>\n",
       "\t<tr><td>Gray Catbird (Dumetella carolinensis)           </td><td>Open Woodlands </td></tr>\n",
       "\t<tr><td>White-breasted Nuthatch (Sitta carolinensis)    </td><td>Forests        </td></tr>\n",
       "\t<tr><td>Blue-gray Gnatcatcher (Polioptila caerulea)     </td><td>Forests        </td></tr>\n",
       "\t<tr><td>Mourning Dove (Zenaida macroura)                </td><td>Open Woodlands </td></tr>\n",
       "\t<tr><td>Rock Pigeon (Columba livia)                     </td><td>Towns          </td></tr>\n",
       "\t<tr><td>European Starling (Sturnus vulgaris)            </td><td>Towns          </td></tr>\n",
       "\t<tr><td>Barn Swallow (Hirundo rustica)                  </td><td>Grasslands     </td></tr>\n",
       "\t<tr><td>Cliff Swallow (Petrochelidon pyrrhonota)        </td><td>Lakes and Ponds</td></tr>\n",
       "\t<tr><td>Tree Swallow (Tachycineta bicolor)              </td><td>Lakes and Ponds</td></tr>\n",
       "\t<tr><td>Canada Goose (Branta canadensis)                </td><td>Marshes        </td></tr>\n",
       "\t<tr><td>Common Merganser (Mergus merganser)             </td><td>Lakes and Ponds</td></tr>\n",
       "\t<tr><td>Chimney Swift (Chaetura pelagica)               </td><td>Towns          </td></tr>\n",
       "\t<tr><td>Scarlet Tanager (Piranga olivacea)              </td><td>Forests        </td></tr>\n",
       "\t<tr><td>American Robin (Turdus migratorius)             </td><td>Open Woodlands </td></tr>\n",
       "\t<tr><td>⋮</td><td>⋮</td></tr>\n",
       "\t<tr><td>American Wigeon (Anas americana)                  </td><td>Lakes and Ponds</td></tr>\n",
       "\t<tr><td>Wilson's Phalarope (Phalaropus tricolor)          </td><td>Lakes and Ponds</td></tr>\n",
       "\t<tr><td>Black Tern (Chlidonias niger)                     </td><td>Marshes        </td></tr>\n",
       "\t<tr><td>Lesser Scaup (Aythya affinis)                     </td><td>Lakes and Ponds</td></tr>\n",
       "\t<tr><td>Sandhill Crane (Grus canadensis)                  </td><td>Marshes        </td></tr>\n",
       "\t<tr><td>Northern Pintail (Anas acuta)                     </td><td>Marshes        </td></tr>\n",
       "\t<tr><td>Loggerhead Shrike (Lanius ludovicianus)           </td><td>Open Woodlands </td></tr>\n",
       "\t<tr><td>Trumpeter Swan (Cygnus buccinator)                </td><td>Lakes and Ponds</td></tr>\n",
       "\t<tr><td>Golden Eagle (Aquila chrysaetos)                  </td><td>Grasslands     </td></tr>\n",
       "\t<tr><td>Eurasian Collared-Dove (Streptopelia decaocto)    </td><td>Towns          </td></tr>\n",
       "\t<tr><td>Common Goldeneye (Bucephala clangula)             </td><td>Lakes and Ponds</td></tr>\n",
       "\t<tr><td>American White Pelican (Pelecanus erythrorhynchos)</td><td>Lakes and Ponds</td></tr>\n",
       "\t<tr><td>Canvasback (Aythya valisineria)                   </td><td>Lakes and Ponds</td></tr>\n",
       "\t<tr><td>Western Meadowlark (Sturnella neglecta)           </td><td>Grasslands     </td></tr>\n",
       "\t<tr><td>Boreal Chickadee (Poecile hudsonica)              </td><td>Forests        </td></tr>\n",
       "\t<tr><td>Philadelphia Vireo (Vireo philadelphicus)         </td><td>Forests        </td></tr>\n",
       "\t<tr><td>Gray Partridge (Perdix perdix)                    </td><td>Grasslands     </td></tr>\n",
       "\t<tr><td>White-winged Tern (Chlidonias leucopterus)        </td><td>               </td></tr>\n",
       "\t<tr><td>Lincoln's Sparrow (Melospiza lincolnii)           </td><td>Scrub          </td></tr>\n",
       "\t<tr><td>Black-backed Woodpecker (Picoides arcticus)       </td><td>Forests        </td></tr>\n",
       "\t<tr><td>American Three-toed Woodpecker (Picoides dorsalis)</td><td>Forests        </td></tr>\n",
       "\t<tr><td>Rusty Blackbird (Euphagus carolinus)              </td><td>Forests        </td></tr>\n",
       "\t<tr><td>Gray Jay (Perisoreus canadensis)                  </td><td>               </td></tr>\n",
       "\t<tr><td>Tennessee Warbler (Vermivora peregrina)           </td><td>Forests        </td></tr>\n",
       "\t<tr><td>Bay-breasted Warbler (Dendroica castanea)         </td><td>Forests        </td></tr>\n",
       "\t<tr><td>Spruce Grouse (Falcipennis canadensis)            </td><td>Forests        </td></tr>\n",
       "\t<tr><td>Palm Warbler (Dendroica palmarum)                 </td><td>Open Woodlands </td></tr>\n",
       "\t<tr><td>Cape May Warbler (Dendroica tigrina)              </td><td>Forests        </td></tr>\n",
       "\t<tr><td>Wilson's Warbler (Wilsonia pusilla)               </td><td>Scrub          </td></tr>\n",
       "\t<tr><td>Nelson's Sharp-tailed Sparrow (Ammodramus nelsoni)</td><td>               </td></tr>\n",
       "</tbody>\n",
       "</table>\n"
      ],
      "text/latex": [
       "A data.frame: 251 × 2\n",
       "\\begin{tabular}{ll}\n",
       " name & habitat\\\\\n",
       " <chr> & <chr>\\\\\n",
       "\\hline\n",
       "\t Green Heron (Butorides virescens)                & Marshes        \\\\\n",
       "\t Baltimore Oriole (Icterus galbula)               & Forests        \\\\\n",
       "\t Common Grackle (Quiscalus quiscula)              & Open Woodlands \\\\\n",
       "\t Red-winged Blackbird (Agelaius phoeniceus)       & Marshes        \\\\\n",
       "\t Black-capped Chickadee (Poecile atricapillus)    & Forests        \\\\\n",
       "\t Tufted Titmouse (Baeolophus bicolor)             & Forests        \\\\\n",
       "\t American Goldfinch (Carduelis tristis)           & Open Woodlands \\\\\n",
       "\t Indigo Bunting (Passerina cyanea)                & Open Woodlands \\\\\n",
       "\t Northern Cardinal (Cardinalis cardinalis)        & Open Woodlands \\\\\n",
       "\t Ruby-throated Hummingbird (Archilochus colubris) & Open Woodlands \\\\\n",
       "\t American Crow (Corvus brachyrhynchos)            & Open Woodlands \\\\\n",
       "\t Blue Jay (Cyanocitta cristata)                   & Forests        \\\\\n",
       "\t Belted Kingfisher (Megaceryle alcyon)            & Lakes and Ponds\\\\\n",
       "\t Bald Eagle (Haliaeetus leucocephalus)            & Forests        \\\\\n",
       "\t Osprey (Pandion haliaetus)                       & Oceans         \\\\\n",
       "\t Brown Thrasher (Toxostoma rufum)                 & Scrub          \\\\\n",
       "\t Gray Catbird (Dumetella carolinensis)            & Open Woodlands \\\\\n",
       "\t White-breasted Nuthatch (Sitta carolinensis)     & Forests        \\\\\n",
       "\t Blue-gray Gnatcatcher (Polioptila caerulea)      & Forests        \\\\\n",
       "\t Mourning Dove (Zenaida macroura)                 & Open Woodlands \\\\\n",
       "\t Rock Pigeon (Columba livia)                      & Towns          \\\\\n",
       "\t European Starling (Sturnus vulgaris)             & Towns          \\\\\n",
       "\t Barn Swallow (Hirundo rustica)                   & Grasslands     \\\\\n",
       "\t Cliff Swallow (Petrochelidon pyrrhonota)         & Lakes and Ponds\\\\\n",
       "\t Tree Swallow (Tachycineta bicolor)               & Lakes and Ponds\\\\\n",
       "\t Canada Goose (Branta canadensis)                 & Marshes        \\\\\n",
       "\t Common Merganser (Mergus merganser)              & Lakes and Ponds\\\\\n",
       "\t Chimney Swift (Chaetura pelagica)                & Towns          \\\\\n",
       "\t Scarlet Tanager (Piranga olivacea)               & Forests        \\\\\n",
       "\t American Robin (Turdus migratorius)              & Open Woodlands \\\\\n",
       "\t ⋮ & ⋮\\\\\n",
       "\t American Wigeon (Anas americana)                   & Lakes and Ponds\\\\\n",
       "\t Wilson's Phalarope (Phalaropus tricolor)           & Lakes and Ponds\\\\\n",
       "\t Black Tern (Chlidonias niger)                      & Marshes        \\\\\n",
       "\t Lesser Scaup (Aythya affinis)                      & Lakes and Ponds\\\\\n",
       "\t Sandhill Crane (Grus canadensis)                   & Marshes        \\\\\n",
       "\t Northern Pintail (Anas acuta)                      & Marshes        \\\\\n",
       "\t Loggerhead Shrike (Lanius ludovicianus)            & Open Woodlands \\\\\n",
       "\t Trumpeter Swan (Cygnus buccinator)                 & Lakes and Ponds\\\\\n",
       "\t Golden Eagle (Aquila chrysaetos)                   & Grasslands     \\\\\n",
       "\t Eurasian Collared-Dove (Streptopelia decaocto)     & Towns          \\\\\n",
       "\t Common Goldeneye (Bucephala clangula)              & Lakes and Ponds\\\\\n",
       "\t American White Pelican (Pelecanus erythrorhynchos) & Lakes and Ponds\\\\\n",
       "\t Canvasback (Aythya valisineria)                    & Lakes and Ponds\\\\\n",
       "\t Western Meadowlark (Sturnella neglecta)            & Grasslands     \\\\\n",
       "\t Boreal Chickadee (Poecile hudsonica)               & Forests        \\\\\n",
       "\t Philadelphia Vireo (Vireo philadelphicus)          & Forests        \\\\\n",
       "\t Gray Partridge (Perdix perdix)                     & Grasslands     \\\\\n",
       "\t White-winged Tern (Chlidonias leucopterus)         &                \\\\\n",
       "\t Lincoln's Sparrow (Melospiza lincolnii)            & Scrub          \\\\\n",
       "\t Black-backed Woodpecker (Picoides arcticus)        & Forests        \\\\\n",
       "\t American Three-toed Woodpecker (Picoides dorsalis) & Forests        \\\\\n",
       "\t Rusty Blackbird (Euphagus carolinus)               & Forests        \\\\\n",
       "\t Gray Jay (Perisoreus canadensis)                   &                \\\\\n",
       "\t Tennessee Warbler (Vermivora peregrina)            & Forests        \\\\\n",
       "\t Bay-breasted Warbler (Dendroica castanea)          & Forests        \\\\\n",
       "\t Spruce Grouse (Falcipennis canadensis)             & Forests        \\\\\n",
       "\t Palm Warbler (Dendroica palmarum)                  & Open Woodlands \\\\\n",
       "\t Cape May Warbler (Dendroica tigrina)               & Forests        \\\\\n",
       "\t Wilson's Warbler (Wilsonia pusilla)                & Scrub          \\\\\n",
       "\t Nelson's Sharp-tailed Sparrow (Ammodramus nelsoni) &                \\\\\n",
       "\\end{tabular}\n"
      ],
      "text/markdown": [
       "\n",
       "A data.frame: 251 × 2\n",
       "\n",
       "| name &lt;chr&gt; | habitat &lt;chr&gt; |\n",
       "|---|---|\n",
       "| Green Heron (Butorides virescens)                | Marshes         |\n",
       "| Baltimore Oriole (Icterus galbula)               | Forests         |\n",
       "| Common Grackle (Quiscalus quiscula)              | Open Woodlands  |\n",
       "| Red-winged Blackbird (Agelaius phoeniceus)       | Marshes         |\n",
       "| Black-capped Chickadee (Poecile atricapillus)    | Forests         |\n",
       "| Tufted Titmouse (Baeolophus bicolor)             | Forests         |\n",
       "| American Goldfinch (Carduelis tristis)           | Open Woodlands  |\n",
       "| Indigo Bunting (Passerina cyanea)                | Open Woodlands  |\n",
       "| Northern Cardinal (Cardinalis cardinalis)        | Open Woodlands  |\n",
       "| Ruby-throated Hummingbird (Archilochus colubris) | Open Woodlands  |\n",
       "| American Crow (Corvus brachyrhynchos)            | Open Woodlands  |\n",
       "| Blue Jay (Cyanocitta cristata)                   | Forests         |\n",
       "| Belted Kingfisher (Megaceryle alcyon)            | Lakes and Ponds |\n",
       "| Bald Eagle (Haliaeetus leucocephalus)            | Forests         |\n",
       "| Osprey (Pandion haliaetus)                       | Oceans          |\n",
       "| Brown Thrasher (Toxostoma rufum)                 | Scrub           |\n",
       "| Gray Catbird (Dumetella carolinensis)            | Open Woodlands  |\n",
       "| White-breasted Nuthatch (Sitta carolinensis)     | Forests         |\n",
       "| Blue-gray Gnatcatcher (Polioptila caerulea)      | Forests         |\n",
       "| Mourning Dove (Zenaida macroura)                 | Open Woodlands  |\n",
       "| Rock Pigeon (Columba livia)                      | Towns           |\n",
       "| European Starling (Sturnus vulgaris)             | Towns           |\n",
       "| Barn Swallow (Hirundo rustica)                   | Grasslands      |\n",
       "| Cliff Swallow (Petrochelidon pyrrhonota)         | Lakes and Ponds |\n",
       "| Tree Swallow (Tachycineta bicolor)               | Lakes and Ponds |\n",
       "| Canada Goose (Branta canadensis)                 | Marshes         |\n",
       "| Common Merganser (Mergus merganser)              | Lakes and Ponds |\n",
       "| Chimney Swift (Chaetura pelagica)                | Towns           |\n",
       "| Scarlet Tanager (Piranga olivacea)               | Forests         |\n",
       "| American Robin (Turdus migratorius)              | Open Woodlands  |\n",
       "| ⋮ | ⋮ |\n",
       "| American Wigeon (Anas americana)                   | Lakes and Ponds |\n",
       "| Wilson's Phalarope (Phalaropus tricolor)           | Lakes and Ponds |\n",
       "| Black Tern (Chlidonias niger)                      | Marshes         |\n",
       "| Lesser Scaup (Aythya affinis)                      | Lakes and Ponds |\n",
       "| Sandhill Crane (Grus canadensis)                   | Marshes         |\n",
       "| Northern Pintail (Anas acuta)                      | Marshes         |\n",
       "| Loggerhead Shrike (Lanius ludovicianus)            | Open Woodlands  |\n",
       "| Trumpeter Swan (Cygnus buccinator)                 | Lakes and Ponds |\n",
       "| Golden Eagle (Aquila chrysaetos)                   | Grasslands      |\n",
       "| Eurasian Collared-Dove (Streptopelia decaocto)     | Towns           |\n",
       "| Common Goldeneye (Bucephala clangula)              | Lakes and Ponds |\n",
       "| American White Pelican (Pelecanus erythrorhynchos) | Lakes and Ponds |\n",
       "| Canvasback (Aythya valisineria)                    | Lakes and Ponds |\n",
       "| Western Meadowlark (Sturnella neglecta)            | Grasslands      |\n",
       "| Boreal Chickadee (Poecile hudsonica)               | Forests         |\n",
       "| Philadelphia Vireo (Vireo philadelphicus)          | Forests         |\n",
       "| Gray Partridge (Perdix perdix)                     | Grasslands      |\n",
       "| White-winged Tern (Chlidonias leucopterus)         | <!----> |\n",
       "| Lincoln's Sparrow (Melospiza lincolnii)            | Scrub           |\n",
       "| Black-backed Woodpecker (Picoides arcticus)        | Forests         |\n",
       "| American Three-toed Woodpecker (Picoides dorsalis) | Forests         |\n",
       "| Rusty Blackbird (Euphagus carolinus)               | Forests         |\n",
       "| Gray Jay (Perisoreus canadensis)                   | <!----> |\n",
       "| Tennessee Warbler (Vermivora peregrina)            | Forests         |\n",
       "| Bay-breasted Warbler (Dendroica castanea)          | Forests         |\n",
       "| Spruce Grouse (Falcipennis canadensis)             | Forests         |\n",
       "| Palm Warbler (Dendroica palmarum)                  | Open Woodlands  |\n",
       "| Cape May Warbler (Dendroica tigrina)               | Forests         |\n",
       "| Wilson's Warbler (Wilsonia pusilla)                | Scrub           |\n",
       "| Nelson's Sharp-tailed Sparrow (Ammodramus nelsoni) | <!----> |\n",
       "\n"
      ],
      "text/plain": [
       "    name                                               habitat        \n",
       "1   Green Heron (Butorides virescens)                  Marshes        \n",
       "2   Baltimore Oriole (Icterus galbula)                 Forests        \n",
       "3   Common Grackle (Quiscalus quiscula)                Open Woodlands \n",
       "4   Red-winged Blackbird (Agelaius phoeniceus)         Marshes        \n",
       "5   Black-capped Chickadee (Poecile atricapillus)      Forests        \n",
       "6   Tufted Titmouse (Baeolophus bicolor)               Forests        \n",
       "7   American Goldfinch (Carduelis tristis)             Open Woodlands \n",
       "8   Indigo Bunting (Passerina cyanea)                  Open Woodlands \n",
       "9   Northern Cardinal (Cardinalis cardinalis)          Open Woodlands \n",
       "10  Ruby-throated Hummingbird (Archilochus colubris)   Open Woodlands \n",
       "11  American Crow (Corvus brachyrhynchos)              Open Woodlands \n",
       "12  Blue Jay (Cyanocitta cristata)                     Forests        \n",
       "13  Belted Kingfisher (Megaceryle alcyon)              Lakes and Ponds\n",
       "14  Bald Eagle (Haliaeetus leucocephalus)              Forests        \n",
       "15  Osprey (Pandion haliaetus)                         Oceans         \n",
       "16  Brown Thrasher (Toxostoma rufum)                   Scrub          \n",
       "17  Gray Catbird (Dumetella carolinensis)              Open Woodlands \n",
       "18  White-breasted Nuthatch (Sitta carolinensis)       Forests        \n",
       "19  Blue-gray Gnatcatcher (Polioptila caerulea)        Forests        \n",
       "20  Mourning Dove (Zenaida macroura)                   Open Woodlands \n",
       "21  Rock Pigeon (Columba livia)                        Towns          \n",
       "22  European Starling (Sturnus vulgaris)               Towns          \n",
       "23  Barn Swallow (Hirundo rustica)                     Grasslands     \n",
       "24  Cliff Swallow (Petrochelidon pyrrhonota)           Lakes and Ponds\n",
       "25  Tree Swallow (Tachycineta bicolor)                 Lakes and Ponds\n",
       "26  Canada Goose (Branta canadensis)                   Marshes        \n",
       "27  Common Merganser (Mergus merganser)                Lakes and Ponds\n",
       "28  Chimney Swift (Chaetura pelagica)                  Towns          \n",
       "29  Scarlet Tanager (Piranga olivacea)                 Forests        \n",
       "30  American Robin (Turdus migratorius)                Open Woodlands \n",
       "⋮   ⋮                                                  ⋮              \n",
       "222 American Wigeon (Anas americana)                   Lakes and Ponds\n",
       "223 Wilson's Phalarope (Phalaropus tricolor)           Lakes and Ponds\n",
       "224 Black Tern (Chlidonias niger)                      Marshes        \n",
       "225 Lesser Scaup (Aythya affinis)                      Lakes and Ponds\n",
       "226 Sandhill Crane (Grus canadensis)                   Marshes        \n",
       "227 Northern Pintail (Anas acuta)                      Marshes        \n",
       "228 Loggerhead Shrike (Lanius ludovicianus)            Open Woodlands \n",
       "229 Trumpeter Swan (Cygnus buccinator)                 Lakes and Ponds\n",
       "230 Golden Eagle (Aquila chrysaetos)                   Grasslands     \n",
       "231 Eurasian Collared-Dove (Streptopelia decaocto)     Towns          \n",
       "232 Common Goldeneye (Bucephala clangula)              Lakes and Ponds\n",
       "233 American White Pelican (Pelecanus erythrorhynchos) Lakes and Ponds\n",
       "234 Canvasback (Aythya valisineria)                    Lakes and Ponds\n",
       "235 Western Meadowlark (Sturnella neglecta)            Grasslands     \n",
       "236 Boreal Chickadee (Poecile hudsonica)               Forests        \n",
       "237 Philadelphia Vireo (Vireo philadelphicus)          Forests        \n",
       "238 Gray Partridge (Perdix perdix)                     Grasslands     \n",
       "239 White-winged Tern (Chlidonias leucopterus)                        \n",
       "240 Lincoln's Sparrow (Melospiza lincolnii)            Scrub          \n",
       "241 Black-backed Woodpecker (Picoides arcticus)        Forests        \n",
       "242 American Three-toed Woodpecker (Picoides dorsalis) Forests        \n",
       "243 Rusty Blackbird (Euphagus carolinus)               Forests        \n",
       "244 Gray Jay (Perisoreus canadensis)                                  \n",
       "245 Tennessee Warbler (Vermivora peregrina)            Forests        \n",
       "246 Bay-breasted Warbler (Dendroica castanea)          Forests        \n",
       "247 Spruce Grouse (Falcipennis canadensis)             Forests        \n",
       "248 Palm Warbler (Dendroica palmarum)                  Open Woodlands \n",
       "249 Cape May Warbler (Dendroica tigrina)               Forests        \n",
       "250 Wilson's Warbler (Wilsonia pusilla)                Scrub          \n",
       "251 Nelson's Sharp-tailed Sparrow (Ammodramus nelsoni)                "
      ]
     },
     "metadata": {},
     "output_type": "display_data"
    }
   ],
   "source": [
    "birds=read.csv(\"analysis_results.csv\")\n",
    "\n",
    "preferred_habitats=\"preferred_habitats.csv\"\n",
    "if (!file.exists(preferred_habitats)){ #Create table\n",
    "    columns=c(\"name\",\"habitat\")\n",
    "    \n",
    "    write.csv(data.frame(matrix(ncol=length(columns),nrow=0, dimnames=list(NULL, columns ))),file=preferred_habitats,row.names=F)\n",
    "}\n",
    "\n",
    "habitat_not_found=c()\n",
    "\n",
    "print_progress = function (name,success) {\n",
    "    clear_output()\n",
    "\n",
    "    if (length(habitat_not_found)>0){\n",
    "        for (elem in habitat_not_found){\n",
    "            cat(sprintf(\"%s not Found!\\n\",elem))\n",
    "        }\n",
    "        cat(\"\\n\\n\")\n",
    "    }\n",
    "    \n",
    "    if (success){\n",
    "        cat(sprintf(\"%s Found!\\n\",name))\n",
    "    }else{\n",
    "        habitat_not_found <<- append(habitat_not_found,name)\n",
    "        write.table(list(name,\"\"),file=preferred_habitats,append=T,sep=\",\",row.names=F, col.names=F)\n",
    "        cat(sprintf(\"%s Not Found!\\n\",name))\n",
    "    }\n",
    "    flush.console()\n",
    "}\n",
    "\n",
    "for (i in nrow(read.csv(preferred_habitats))+1:nrow(birds)){\n",
    "    if (i>nrow(birds)){\n",
    "        break\n",
    "    }\n",
    "    \n",
    "    name=birds[i,\"name\"]\n",
    "    original_name=name #To save to csv\n",
    "\n",
    "    cat(sprintf(\"Now processing %s...\\n\\n\",original_name))\n",
    "    name=gsub(\"^(.+) \\\\(.*\",\"\\\\1\",name)\n",
    "\n",
    "    name=gsub(\"'\",\"\",name,fixed=T)\n",
    "    name=gsub(\" \",\"_\",name,fixed=T)\n",
    "    \n",
    "    page=GET(sprintf(\"https://www.allaboutbirds.org/guide/%s/\",name))\n",
    "    if (status_code(page)==404){\n",
    "        print_progress(original_name,success=F)\n",
    "        next\n",
    "    }\n",
    "\n",
    "    page=content(page,as=\"parsed\")\n",
    "    \n",
    "    habitat=xml_find_first(page,sprintf(\"//a[@href =\\\"/guide/%s/lifehistory#habitat\\\"]\",name))\n",
    "\n",
    "    if (is.na(habitat)){\n",
    "        print_progress(original_name,success=F)\n",
    "        next\n",
    "    }\n",
    "    habitat=xml_find_first(habitat,\"//span[@class=\\\"text-label\\\"]\")\n",
    "    if (is.na(habitat)){\n",
    "        print_progress(original_name,success=F)\n",
    "        next\n",
    "    }\n",
    "    \n",
    "    habitat=xml_text(habitat)\n",
    "\n",
    "    habitat=gsub(\"^Habitat\",\"\",habitat)\n",
    "\n",
    "    write.table(list(original_name,habitat),file=preferred_habitats,append=T,sep=\",\",row.names=F, col.names=F)\n",
    "\n",
    "    print_progress(original_name,success=T)\n",
    "}\n",
    "cat(\"\\n\\n\")\n",
    "read.csv(preferred_habitats)"
   ]
  },
  {
   "cell_type": "code",
   "execution_count": null,
   "id": "5816e208-95d6-4b28-911b-fae44b23f0bc",
   "metadata": {},
   "outputs": [],
   "source": []
  },
  {
   "cell_type": "markdown",
   "id": "97413fd5-d348-4f39-b6c8-9918f63267f0",
   "metadata": {},
   "source": [
    "Now it's time to do the actual model training:\n",
    "There is only one parameters: \n",
    "\n",
    "cutoff, which is a value such that if r is larger than cutoff, the associated bird is considered to prefer forested areas over non-forested areas; and \n",
    "\n",
    "We will optimize the model function with exhaustive search.\n",
    "\n",
    "To account for potential class imbalance between forests and non-forests, the accuracy at each is calculated on a hypothetial data set in which both classes have a proportion of 50%."
   ]
  },
  {
   "cell_type": "code",
   "execution_count": null,
   "id": "247325c7-92aa-436e-8598-a32d6b2eb466",
   "metadata": {},
   "outputs": [],
   "source": []
  },
  {
   "cell_type": "markdown",
   "id": "262db980-2138-4fbd-818e-606155f20e1e",
   "metadata": {},
   "source": [
    "Important combinatronics functions"
   ]
  },
  {
   "cell_type": "code",
   "execution_count": 2,
   "id": "73c6ec43-b8fc-41b3-ada8-186dc8db5869",
   "metadata": {},
   "outputs": [],
   "source": [
    "convert_num_to_permutation=function(num,k,lst){ #Converts num to permuation of choosing k items chosen out of n items without repetition.\n",
    "    result=c()\n",
    "\n",
    "    n=length(lst)-1 #[0,n-1]-> [1,n]\n",
    "    i=n-(k-1)\n",
    "    curr=num\n",
    "\n",
    "    while(i<=n){ #https://en.wikipedia.org/wiki/Factorial_number_system#Definition\n",
    "        idx=(curr %% i)+1\n",
    "\n",
    "        result=append(result, lst[idx])\n",
    "\n",
    "        lst=lst[-idx]\n",
    "        \n",
    "        curr=curr %/% i\n",
    "        i=i+1\n",
    "    }\n",
    "    return(result)\n",
    "}\n",
    "                   \n",
    "convert_num_to_base=function(num,k,lst){ #Converts num to permuation of choosing k items chosen out of n items with repetition.\n",
    "    result=c()\n",
    "\n",
    "    n=length(lst)\n",
    "    i=1\n",
    "\n",
    "    curr=num\n",
    "    while(i<=k){\n",
    "        result=append(result, lst[(curr %% n)+1])\n",
    "        curr=curr %/% n\n",
    "        i=i+1\n",
    "    }\n",
    "\n",
    "    return(result)\n",
    "}\n",
    "\n",
    "Perm=function(n,k){choose(n,k) * factorial(k)} #Calculates number of permutations of k items chosen out of n items without repetition"
   ]
  },
  {
   "cell_type": "code",
   "execution_count": null,
   "id": "7ebc4180-6cd6-4817-9482-ede206be7cfa",
   "metadata": {},
   "outputs": [],
   "source": []
  },
  {
   "cell_type": "code",
   "execution_count": 4,
   "id": "fef47450-d0a5-406b-97d2-c252b12aebc1",
   "metadata": {},
   "outputs": [
    {
     "name": "stdout",
     "output_type": "stream",
     "text": [
      "New accuracy is 75.3 % with cutoff vector\n",
      "[1] 0.23\n",
      "\n",
      "and weights vector\n",
      "[1] 1\n",
      "\n",
      "\n",
      "[1] \"Finished!\"\n"
     ]
    }
   ],
   "source": [
    "birds=read.csv(\"analysis_results.csv\")\n",
    "preferred_habitats=read.csv(\"preferred_habitats.csv\")\n",
    "\n",
    "accuracy=0\n",
    "habitats=unique(preferred_habitats$habitat)\n",
    "cutoffs=c()\n",
    "weights=c()\n",
    "\n",
    "model_predict=function(bird,weights,cutoffs){\n",
    "    forested_count=0\n",
    "    nonforested_count=0\n",
    "\n",
    "    probabilities=birds[birds$name==bird,2:ncol(birds)]\n",
    "    \n",
    "    for (i in 1:length(probabilities)){\n",
    "        if (probabilities[i]>cutoffs[i]){\n",
    "            forested_count=forested_count+weights[i]\n",
    "        }else{\n",
    "            nonforested_count=nonforested_count+weights[i]\n",
    "        }\n",
    "    }\n",
    "    if (forested_count>nonforested_count){\n",
    "        return(T)\n",
    "    }else{\n",
    "        return(F)\n",
    "    }\n",
    "            \n",
    "}\n",
    "\n",
    "model_accuracy=function(weights,cutoffs){\n",
    "    forested_num=0\n",
    "    forested_right=0\n",
    "\n",
    "    non_forested_num=0\n",
    "    non_forested_right=0\n",
    "\n",
    "    for (i in 1:nrow(preferred_habitats)){\n",
    "        habitat=preferred_habitats[i,\"habitat\"]\n",
    "        if (habitat==\"\"){\n",
    "            next\n",
    "        }\n",
    "        forested=(habitat==\"Forests\")\n",
    "        right=(forested==model_predict(birds[i,\"name\"],weights,cutoffs))\n",
    "        \n",
    "        if (forested){\n",
    "            forested_num=forested_num+1\n",
    "            if (right){\n",
    "                forested_right=forested_right+1\n",
    "            }\n",
    "        }else{\n",
    "            non_forested_num=non_forested_num+1\n",
    "            if (right){\n",
    "                non_forested_right=non_forested_right+1\n",
    "            }\n",
    "        }\n",
    "    }\n",
    "    \n",
    "    return((forested_right/forested_num)*1/2+(non_forested_right/non_forested_num)*1/2)\n",
    "}   \n",
    "\n",
    "i=0\n",
    "while( i<= 101^(ncol(birds)-1)){\n",
    "    j=0\n",
    "    cutoffs_vector=convert_num_to_base(i,ncol(birds)-1,seq(0,1,0.01))\n",
    "    while( j<= 101^(ncol(birds)-1)){\n",
    "        weights_vector=convert_num_to_base(j,ncol(birds)-1,seq(0,1,0.01))\n",
    "        \n",
    "        if (sum(weights_vector)!=1){\n",
    "            j=j+1\n",
    "            next\n",
    "        }\n",
    "        possible_accuracy=model_accuracy(weights_vector,cutoffs_vector)\n",
    "        if (possible_accuracy>accuracy){\n",
    "            clear_output()\n",
    "            accuracy=possible_accuracy\n",
    "            cutoffs=cutoffs_vector\n",
    "            weights=weights_vector\n",
    "            cat(sprintf(\"New accuracy is %s %% with cutoff vector\\n\",round(accuracy*100,digits=2)))\n",
    "            print(cutoffs)\n",
    "            cat(\"\\nand weights vector\\n\")\n",
    "            print(weights)\n",
    "            flush.console()\n",
    "        }\n",
    "        j=j+1\n",
    "    }\n",
    "    i=i+1\n",
    "}\n",
    "cat(\"\\n\\n\")\n",
    "print(\"Finished!\")"
   ]
  },
  {
   "cell_type": "code",
   "execution_count": null,
   "id": "a9998c67-35dc-47f1-a621-e93f8a45ea78",
   "metadata": {},
   "outputs": [],
   "source": []
  },
  {
   "cell_type": "markdown",
   "id": "5934ff80-ca0f-4d68-a06d-bcd9942ea894",
   "metadata": {},
   "source": [
    "Now, we'll try a different model: instead of binary classification, we'll try multi-class classification. \n",
    "\n",
    "The model will now have len(habitats) parameters --- each parameter (which is in \\[0,1]) will be associated with a habitat. The parameter which is closest to r will be the predicted habitat (with n calculated probabilities, we can have n*len(habitats) parameters. For probabilities\\[i], the habitat predicted for that probability will be the habitats\\[j] where parameters\\[i]\\[j] is the the closest value in parameters\\[i] to probabilities\\[i]. The overall predicted habitat is the mode of the predictions across all probabilities). "
   ]
  },
  {
   "cell_type": "code",
   "execution_count": null,
   "id": "7e2a4d39-8c35-4e7f-acf5-e9ca3631f97c",
   "metadata": {},
   "outputs": [],
   "source": []
  },
  {
   "cell_type": "code",
   "execution_count": null,
   "id": "d785b627-2872-4f8f-ac70-1063438c8f93",
   "metadata": {},
   "outputs": [
    {
     "name": "stdout",
     "output_type": "stream",
     "text": [
      "[1] 0.2150208\n"
     ]
    }
   ],
   "source": [
    "birds=read.csv(\"analysis_results.csv\")\n",
    "preferred_habitats=read.csv(\"preferred_habitats.csv\")\n",
    "\n",
    "accuracy=-Inf\n",
    "habitats=unique(preferred_habitats$habitat)\n",
    "parameters=data.frame()\n",
    "weights=list()\n",
    "\n",
    "create_parameters_df=function(habitats,vector){\n",
    "    parameters_df=data.frame(A=vector)\n",
    "    rownames(parameters_df)=habitats\n",
    "    return(parameters_df)\n",
    "}\n",
    "\n",
    "model_predict=function(probabilities,weights,parameters){\n",
    "    weights=weights/sum(weights) #Scale weights\n",
    "    predictions=data.frame(count=rep(0,nrow(parameters))) #Storing the weight of the predictions of each possible class\n",
    "\n",
    "    rownames(predictions)=rownames(parameters)\n",
    "    \n",
    "    for (i in 1:length(probabilities)){\n",
    "        probabilities_i=probabilities[i] #Get the probability corresponding to the ith variable\n",
    "        parameters_i=parameters[i] #Get the values associated with each class for the ith variable\n",
    "\n",
    "        parameters_i=parameters_i[order(parameters_i[,1], decreasing=F),,drop=F] #Sort the values in ascending order\n",
    "\n",
    "        closest_parameter_index=findInterval(probabilities_i,parameters_i[,1]) #Find index closest without going over.\n",
    "\n",
    "        if (closest_parameter_index==nrow(parameters_i)){ #In another run, comment out this if-ladder\n",
    "            closest_parameter_index=closest_parameter_index\n",
    "        }else if (closest_parameter_index==0){\n",
    "            closest_parameter_index=1\n",
    "        }else if ((probabilities_i-parameters_i[closest_parameter_index,1]) < ((parameters_i[closest_parameter_index+1,1]-probabilities_i)+0.001)){ #The 0.001 is used to make sure that two values that are the same will not lead to the same distance\n",
    "            closest_parameter_index=closest_parameter_index\n",
    "        }else{\n",
    "            closest_parameter_index=closest_parameter_index+1\n",
    "        }\n",
    "\n",
    "     closest_parameter=rownames(parameters_i)[closest_parameter_index]\n",
    "        predictions[closest_parameter,\"count\"]=predictions[closest_parameter,\"count\"]+weights[i]\n",
    "    }\n",
    "\n",
    "    predictions=predictions[order(predictions$count,decreasing=T),,drop=F]\n",
    "    return(rownames(predictions)[1]) #Get the name of the row with the highest count\n",
    "}\n",
    "    \n",
    "model_accuracy=function(weights,parameters){\n",
    "    counts=data.frame(right=rep(0,nrow(parameters)),num=rep(0,nrow(parameters)))\n",
    "\n",
    "    rownames(counts)=rownames(parameters)\n",
    "    \n",
    "    counts=counts[!(rownames(counts) %in% c(\"\")),] #Don't consider habitat \"\"\n",
    "\n",
    "    for (i in 1:nrow(birds)){\n",
    "        habitat=preferred_habitats[i,\"habitat\"]\n",
    "        if (habitat==\"\"){\n",
    "            next\n",
    "        }\n",
    "        right=(model_predict(birds[i,2:ncol(birds)],weights,parameters)==habitat)\n",
    "\n",
    "        counts[habitat,\"num\"]=counts[habitat,\"num\"]+1\n",
    "\n",
    "        if (right){\n",
    "           counts[habitat,1]=counts[habitat,1]+1 \n",
    "        }\n",
    "    }\n",
    "\n",
    "    accuracy=apply(counts,1, function(row) row[1]/row[2])\n",
    "\n",
    "    accuracy=sum(accuracy)/nrow(counts)\n",
    "\n",
    "    return(accuracy)\n",
    "}\n",
    "if (F){ #Based off of exhaustive search --- will take too long\n",
    "\n",
    "i=0\n",
    "while (i <= (Perm(101,length(habitats)-1))){\n",
    "    \n",
    "parameters_df=create_parameters_df(habitats,convert_num_to_permutation(i,length(habitats),seq(0,1,0.01)))\n",
    "\n",
    "    j=0\n",
    "    \n",
    "    while ( j<= 101^(ncol(birds)-1)){\n",
    "        weights_vector=convert_num_to_base(j,ncol(birds)-1,seq(0,1,0.01))\n",
    "        if (sum(weights_vector)!=1){\n",
    "            j=j+1\n",
    "            next\n",
    "        }\n",
    "        possible_accuracy=model_accuracy(weights_vector,parameters_df)\n",
    "        \n",
    "        if (possible_accuracy>accuracy){\n",
    "            clear_output()\n",
    "            \n",
    "            accuracy=possible_accuracy\n",
    "            weights=weights_vector\n",
    "            parameters=parameters_df\n",
    "            \n",
    "            cat(sprintf(\"New accuracy is %s %% with weights vector\\n\", round(accuracy*100,digits=2)))\n",
    "            print(weights_vector) \n",
    "            cat(\"\\nand parameters\\n\")\n",
    "            print(parameters_df)\n",
    "            flush.console()\n",
    "        }\n",
    "        j=j+1\n",
    "    }\n",
    "    i=i+1\n",
    "}\n",
    "}else{ #Based off of nloptr --- could never get working\n",
    "    num_of_habitats_vars=length(habitats)\n",
    "    num_of_weight_vars=ncol(birds)-1\n",
    "\n",
    "    eval_f=function(vector){\n",
    "        parameters_df=create_parameters_df(habitats,vector[1:num_of_habitats_vars])\n",
    "        weights_vector=vector[(num_of_habitats_vars+1):length(vector)]\n",
    "        result=model_accuracy(weights_vector,parameters_df)\n",
    "        clear_output()\n",
    "        print(result)\n",
    "        flush.console()\n",
    "        return(-result)\n",
    "    }\n",
    "    \n",
    "    x0=append(rep(0,num_of_habitat_vars),append(rep(0,num_of_weight_vars-1),1))\n",
    "    \n",
    "    lb=rep(0,length(x0))\n",
    "\n",
    "    ub=rep(1,length(x0))\n",
    "\n",
    "    print(nloptr(x0=x0,eval_f=eval_f,lb=lb,ub=ub ,opts=list(\"algorithm\"=\"NLOPT_GN_DIRECT_L\",\"maxeval\"=10000)))                                                  \n",
    "}                                                          "
   ]
  },
  {
   "cell_type": "code",
   "execution_count": null,
   "id": "03533cdb-6bdc-4b04-9f4d-e022c6d0d754",
   "metadata": {},
   "outputs": [],
   "source": []
  }
 ],
 "metadata": {
  "kernelspec": {
   "display_name": "R",
   "language": "R",
   "name": "ir"
  },
  "language_info": {
   "codemirror_mode": "r",
   "file_extension": ".r",
   "mimetype": "text/x-r-source",
   "name": "R",
   "pygments_lexer": "r",
   "version": "4.3.1"
  }
 },
 "nbformat": 4,
 "nbformat_minor": 5
}
